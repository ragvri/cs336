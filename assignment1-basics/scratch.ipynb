{
 "cells": [
  {
   "cell_type": "code",
   "execution_count": 2,
   "id": "3fe2f3de",
   "metadata": {},
   "outputs": [],
   "source": [
    "test_string = \"hello! こんにちは!\""
   ]
  },
  {
   "cell_type": "code",
   "execution_count": 3,
   "id": "a24816cd",
   "metadata": {},
   "outputs": [
    {
     "name": "stdout",
     "output_type": "stream",
     "text": [
      "b'hello! \\xe3\\x81\\x93\\xe3\\x82\\x93\\xe3\\x81\\xab\\xe3\\x81\\xa1\\xe3\\x81\\xaf!'\n",
      "[104, 101, 108, 108, 111, 33, 32, 227, 129, 147, 227, 130, 147, 227, 129, 171, 227, 129, 161, 227, 129, 175, 33]\n"
     ]
    }
   ],
   "source": [
    "utf_8_encoded = test_string.encode('utf-8')\n",
    "print(utf_8_encoded)\n",
    "print(list(utf_8_encoded))"
   ]
  },
  {
   "cell_type": "code",
   "execution_count": 9,
   "id": "53938271",
   "metadata": {},
   "outputs": [
    {
     "name": "stdout",
     "output_type": "stream",
     "text": [
      "b'h' b'e' b'l' b'l' b'o' b'!' b' ' b'\\xe3' b'\\x81' b'\\x93' b'\\xe3' b'\\x82' b'\\x93' b'\\xe3' b'\\x81' b'\\xab' b'\\xe3' b'\\x81' b'\\xa1' b'\\xe3' b'\\x81' b'\\xaf' b'!' \n",
      "b'hello! \\xe3\\x81\\x93\\xe3\\x82\\x93\\xe3\\x81\\xab\\xe3\\x81\\xa1\\xe3\\x81\\xaf!'\n",
      "[104, 101, 108, 108, 111, 33, 32, 227, 129, 147, 227, 130, 147, 227, 129, 171, 227, 129, 161, 227, 129, 175, 33]\n"
     ]
    }
   ],
   "source": [
    "utf_16_encoded = test_string.encode('utf-8')\n",
    "for i in utf_16_encoded:\n",
    "\tprint(f\"{bytes([i])}\", end=' ')\n",
    "print()  # for a new line\n",
    "print(utf_16_encoded)\n",
    "print(list(utf_16_encoded))"
   ]
  },
  {
   "cell_type": "code",
   "execution_count": 14,
   "id": "06d4f202",
   "metadata": {},
   "outputs": [
    {
     "name": "stdout",
     "output_type": "stream",
     "text": [
      "True\n",
      "True\n"
     ]
    }
   ],
   "source": [
    "utf_8_encoded = test_string.encode('utf-8')\n",
    "decoded_utf_8 = utf_8_encoded.decode('utf-8')\n",
    "print(utf_8_encoded == decoded_utf_8.encode('utf-8'))\n",
    "print(test_string == decoded_utf_8)"
   ]
  },
  {
   "cell_type": "code",
   "execution_count": 20,
   "id": "0b9bb40d",
   "metadata": {},
   "outputs": [
    {
     "data": {
      "text/plain": [
       "'hello'"
      ]
     },
     "execution_count": 20,
     "metadata": {},
     "output_type": "execute_result"
    }
   ],
   "source": [
    "# Corrected syntax, but still logically flawed\n",
    "def decode_utf8_bytes_to_str_wrong(bytestring:bytes):\n",
    "   # Note the parentheses around [b]\n",
    "   return \"\".join([bytes([b]).decode('utf-8') for b in bytestring])\n",
    "\n",
    "# Now, this will raise UnicodeDecodeError with a multi-byte character\n",
    "decode_utf8_bytes_to_str_wrong('hello'.encode('utf-8'))"
   ]
  },
  {
   "cell_type": "code",
   "execution_count": 21,
   "id": "e75bb0a3",
   "metadata": {},
   "outputs": [],
   "source": [
    "import regex as re"
   ]
  },
  {
   "cell_type": "code",
   "execution_count": 25,
   "id": "77e66709",
   "metadata": {},
   "outputs": [
    {
     "name": "stdout",
     "output_type": "stream",
     "text": [
      "\n",
      "\n",
      "Once\n",
      " upon\n",
      " a\n",
      " time\n",
      " there\n",
      " was\n",
      " a\n",
      " little\n",
      " boy\n",
      " named\n",
      " Ben\n",
      ".\n",
      " Ben\n",
      " loved\n",
      " to\n",
      " explore\n",
      " the\n",
      " world\n",
      " around\n",
      " him\n",
      ".\n",
      " He\n",
      " saw\n",
      " many\n",
      " amazing\n",
      " things\n",
      ",\n",
      " like\n",
      " beautiful\n",
      " vases\n",
      " that\n",
      " were\n",
      " on\n",
      " display\n",
      " in\n",
      " a\n",
      " store\n",
      ".\n",
      " One\n",
      " day\n",
      ",\n",
      " Ben\n",
      " was\n",
      " walking\n",
      " through\n",
      " the\n",
      " store\n",
      " when\n",
      " he\n",
      " came\n",
      " across\n",
      " a\n",
      " very\n",
      " special\n",
      " vase\n",
      ".\n",
      " When\n",
      " Ben\n",
      " saw\n",
      " it\n",
      " he\n",
      " was\n",
      " amazed\n",
      "!\n",
      "\n",
      "\n",
      "He\n",
      " said\n",
      ",\n",
      " “\n",
      "Wow\n",
      ",\n",
      " that\n",
      " is\n",
      " a\n",
      " really\n",
      " amazing\n",
      " vase\n",
      "!\n",
      " Can\n",
      " I\n",
      " buy\n",
      " it\n",
      "?”\n",
      "\n",
      "\n",
      "The\n",
      " shopkeeper\n",
      " smiled\n",
      " and\n",
      " said\n",
      ",\n",
      " “\n",
      "Of\n",
      " course\n",
      " you\n",
      " can\n",
      ".\n",
      " You\n",
      " can\n",
      " take\n",
      " it\n",
      " home\n",
      " and\n",
      " show\n",
      " all\n",
      " your\n",
      " friends\n",
      " how\n",
      " amazing\n",
      " it\n",
      " is\n",
      "!”\n",
      "\n",
      "\n",
      "So\n",
      " Ben\n",
      " took\n",
      " the\n",
      " vase\n",
      " home\n",
      " and\n",
      " he\n",
      " was\n",
      " so\n",
      " proud\n",
      " of\n",
      " it\n",
      "!\n",
      " He\n",
      " called\n",
      " his\n",
      " friends\n",
      " over\n",
      " and\n",
      " showed\n",
      " them\n",
      " the\n",
      " amazing\n",
      " vase\n",
      ".\n",
      " All\n",
      " his\n",
      " friends\n",
      " thought\n",
      " the\n",
      " vase\n",
      " was\n",
      " beautiful\n",
      " and\n",
      " couldn\n",
      "'t\n",
      " believe\n",
      " how\n",
      " lucky\n",
      " Ben\n",
      " was\n",
      ".\n",
      "\n",
      "\n",
      "And\n",
      " that\n",
      "'s\n",
      " how\n",
      " Ben\n",
      " found\n",
      " an\n",
      " amazing\n",
      " vase\n",
      " in\n",
      " the\n",
      " store\n",
      "!\n",
      "\n",
      "\n",
      "<|endoftext|>\n",
      "\n",
      "\n",
      "\n"
     ]
    }
   ],
   "source": [
    "PAT = r\"\"\"<\\|endoftext\\|>|'(?:[sdmt]|ll|ve|re)| ?\\p{L}+| ?\\p{N}+| ?[^\\s\\p{L}\\p{N}]+|\\s+(?!\\S)|\\s+\"\"\"\n",
    "text = \"\"\"\n",
    "Once upon a time there was a little boy named Ben. Ben loved to explore the world around him. He saw many amazing things, like beautiful vases that were on display in a store. One day, Ben was walking through the store when he came across a very special vase. When Ben saw it he was amazed!\n",
    "He said, “Wow, that is a really amazing vase! Can I buy it?”\n",
    "The shopkeeper smiled and said, “Of course you can. You can take it home and show all your friends how amazing it is!”\n",
    "So Ben took the vase home and he was so proud of it! He called his friends over and showed them the amazing vase. All his friends thought the vase was beautiful and couldn't believe how lucky Ben was.\n",
    "And that's how Ben found an amazing vase in the store!\n",
    "<|endoftext|>\n",
    "\n",
    "\"\"\"\n",
    "for text in re.finditer(PAT, text):\n",
    "\tprint(text.group(0))"
   ]
  },
  {
   "cell_type": "code",
   "execution_count": null,
   "id": "bf1e0449",
   "metadata": {},
   "outputs": [],
   "source": []
  }
 ],
 "metadata": {
  "kernelspec": {
   "display_name": "cs336-basics",
   "language": "python",
   "name": "python3"
  },
  "language_info": {
   "codemirror_mode": {
    "name": "ipython",
    "version": 3
   },
   "file_extension": ".py",
   "mimetype": "text/x-python",
   "name": "python",
   "nbconvert_exporter": "python",
   "pygments_lexer": "ipython3",
   "version": "3.13.2"
  }
 },
 "nbformat": 4,
 "nbformat_minor": 5
}
